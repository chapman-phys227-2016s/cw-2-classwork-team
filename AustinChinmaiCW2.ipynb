{
 "cells": [
  {
   "cell_type": "code",
   "execution_count": 1,
   "metadata": {
    "collapsed": false
   },
   "outputs": [],
   "source": [
    "import fill_arrays_vectorized as p1"
   ]
  },
  {
   "cell_type": "markdown",
   "metadata": {
    "collapsed": false
   },
   "source": [
    "# Fill Arrays Vectorized\n",
    "\n",
    "## Austin Ayers, Chinmai Raman\n",
    "\n",
    "Generates 2 arrays that have x and h(x) values"
   ]
  },
  {
   "cell_type": "code",
   "execution_count": 9,
   "metadata": {
    "collapsed": false
   },
   "outputs": [
    {
     "data": {
      "text/plain": [
       "(array([-4. , -3.8, -3.6, -3.4, -3.2, -3. , -2.8, -2.6, -2.4, -2.2, -2. ,\n",
       "        -1.8, -1.6, -1.4, -1.2, -1. , -0.8, -0.6, -0.4, -0.2,  0. ,  0.2,\n",
       "         0.4,  0.6,  0.8,  1. ,  1.2,  1.4,  1.6,  1.8,  2. ,  2.2,  2.4,\n",
       "         2.6,  2.8,  3. ,  3.2,  3.4,  3.6,  3.8,  4. ]),\n",
       " array([  4.48950392e-08,   2.13647466e-07,   9.38541715e-07,\n",
       "          3.80597433e-06,   1.42473657e-05,   4.92333887e-05,\n",
       "          1.57051225e-04,   4.62465530e-04,   1.25711165e-03,\n",
       "          3.15445817e-03,   7.30688275e-03,   1.56241336e-02,\n",
       "          3.08401294e-02,   5.61943797e-02,   9.45205003e-02,\n",
       "          1.46762663e-01,   2.10359242e-01,   2.78332585e-01,\n",
       "          3.39956186e-01,   3.83299530e-01,   3.98942280e-01,\n",
       "          3.83299530e-01,   3.39956186e-01,   2.78332585e-01,\n",
       "          2.10359242e-01,   1.46762663e-01,   9.45205003e-02,\n",
       "          5.61943797e-02,   3.08401294e-02,   1.56241336e-02,\n",
       "          7.30688275e-03,   3.15445817e-03,   1.25711165e-03,\n",
       "          4.62465530e-04,   1.57051225e-04,   4.92333887e-05,\n",
       "          1.42473657e-05,   3.80597433e-06,   9.38541715e-07,\n",
       "          2.13647466e-07,   4.48950392e-08]))"
      ]
     },
     "execution_count": 9,
     "metadata": {},
     "output_type": "execute_result"
    }
   ],
   "source": [
    "p1.genArrays()"
   ]
  }
 ],
 "metadata": {
  "kernelspec": {
   "display_name": "Python 2 (SageMath)",
   "language": "python",
   "name": "python2"
  },
  "language_info": {
   "codemirror_mode": {
    "name": "ipython",
    "version": 2
   },
   "file_extension": ".py",
   "mimetype": "text/x-python",
   "name": "python",
   "nbconvert_exporter": "python",
   "pygments_lexer": "ipython2",
   "version": "2.7.10"
  },
  "name": "AustinChinmaiCW2.ipynb"
 },
 "nbformat": 4,
 "nbformat_minor": 0
}
